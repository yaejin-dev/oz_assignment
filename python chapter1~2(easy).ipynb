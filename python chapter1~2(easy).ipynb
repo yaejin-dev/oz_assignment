{
 "cells": [
  {
   "cell_type": "markdown",
   "id": "5ce5aa2babe14282",
   "metadata": {},
   "source": [
    "# 파이썬 1~2일차 쪽지시험"
   ]
  },
  {
   "cell_type": "markdown",
   "id": "136e2d85abe685b9",
   "metadata": {},
   "source": [
    "## 문제 1\n",
    "### 오즈코딩스쿨에서 코딩을 처음 시작한 박상훈!\n",
    "### 박상훈에게는 덩치, 애기라는 도마뱀이 있습니다.\n",
    "### 도마뱀의 나이는 각각 1살 2살 입니다.\n",
    "### 각 도마뱀의 이름으로 변수를 선언하고 각 도마뱀의 나이를 할당해주세요!!"
   ]
  },
  {
   "cell_type": "code",
   "execution_count": null,
   "id": "8e5a1ab9c30b38a7",
   "metadata": {},
   "outputs": [],
   "source": [
    "# 정답 입력\n",
    "덩치 = 1\n",
    "애기 = 2"
   ]
  },
  {
   "cell_type": "markdown",
   "id": "94e68ef24ba3e5f7",
   "metadata": {},
   "source": [
    "## 문제 2\n",
    "### 박상훈의 `도마뱀 변수`들을 사용하여 `도마뱀 리스트`를 만들어 주세요!"
   ]
  },
  {
   "cell_type": "code",
   "execution_count": null,
   "id": "b8334aff8ce27138",
   "metadata": {},
   "outputs": [],
   "source": [
    "# 정담 입력\n",
    "lizard_list = [덩치, 애기]"
   ]
  },
  {
   "cell_type": "markdown",
   "id": "454fe842db180fc",
   "metadata": {},
   "source": [
    "## 문제 3\n",
    "### 박상훈이 도마뱀을 새로 샀어요!\n",
    "### 도마뱀의 이름은 마고, 나이는 2살이에요!\n",
    "### `도마뱀 리스트`에 가장 끝에 추가해주세요!!"
   ]
  },
  {
   "cell_type": "code",
   "execution_count": null,
   "id": "3ec1ef1be2927b78",
   "metadata": {},
   "outputs": [],
   "source": [
    "# 정답 입력\n",
    "마고 = 2\n",
    "\n",
    "lizard_list.append(마고)"
   ]
  },
  {
   "cell_type": "markdown",
   "id": "20ccbdf20f857d13",
   "metadata": {},
   "source": [
    "## 문제 4\n",
    "### 박상훈의 도마뱀들의 나이를 더해 주세요!!"
   ]
  },
  {
   "cell_type": "code",
   "execution_count": null,
   "id": "3ebc179d264d3866",
   "metadata": {},
   "outputs": [],
   "source": [
    "# 정답 입력\n",
    "sum(lizard_list)"
   ]
  },
  {
   "cell_type": "markdown",
   "id": "eea768f4f558a28a",
   "metadata": {},
   "source": [
    "## 문제 5\n",
    "### 박상훈의 `도마뱀 리스트`를 사용하여 \"사육장\"이라는 딕셔너리를 만들어주세요!"
   ]
  },
  {
   "cell_type": "code",
   "execution_count": null,
   "id": "49874bd7d6ee7c2d",
   "metadata": {},
   "outputs": [],
   "source": [
    "# 정답 입력\n",
    "lizard_name = [덩치, 애기, 마고]\n",
    "사육장 = dict(zip(lizard_name, lizard_list))"
   ]
  },
  {
   "cell_type": "markdown",
   "id": "a7b973b398f00642",
   "metadata": {},
   "source": [
    "## 문제 6\n",
    "### 사육장 딕셔너리를 `key, value` 형태로 출력해주세요!"
   ]
  },
  {
   "cell_type": "code",
   "execution_count": null,
   "id": "94544cb2f847228f",
   "metadata": {},
   "outputs": [],
   "source": [
    "# 정답 입력\n",
    "print(keys.사육장())\n",
    "print(values.사육장())"
   ]
  },
  {
   "cell_type": "markdown",
   "id": "fec443543704aada",
   "metadata": {},
   "source": []
  },
  {
   "cell_type": "markdown",
   "id": "a9aa1a28e60e6bf8",
   "metadata": {},
   "source": [
    "## 문제 7\n",
    "### 도마뱀들의 나이를 `실수형태`로 출력해주세요!"
   ]
  },
  {
   "cell_type": "code",
   "execution_count": null,
   "id": "2183407c40686977",
   "metadata": {},
   "outputs": [],
   "source": [
    "# 정답 입력\n",
    "print(float(lizard_list.values))"
   ]
  },
  {
   "cell_type": "markdown",
   "id": "43428aabdee55513",
   "metadata": {},
   "source": [
    "## 문제 8\n",
    "### 1년이 지났습니다.\n",
    "### 도마뱀들이 1살씩 나이를 먹었어요\n",
    "### 도마뱀들의 나이를 바꿔주세요!"
   ]
  },
  {
   "cell_type": "code",
   "execution_count": null,
   "id": "286dc862809e7e80",
   "metadata": {},
   "outputs": [],
   "source": [
    "# 정답 입력\n",
    "for "
   ]
  },
  {
   "cell_type": "markdown",
   "id": "ed5d1e1503e37223",
   "metadata": {},
   "source": [
    "## 문제 9\n",
    "### n년이 지났을 때 도마뱀의 나이가 알고 싶어 졌어요!!\n",
    "### `input` 을 이용해서 n년차 도마뱀들의 나이를 출력해주세요!"
   ]
  },
  {
   "cell_type": "code",
   "execution_count": null,
   "id": "7a8db95dd6192d42",
   "metadata": {},
   "outputs": [],
   "source": [
    "# 정답 입력"
   ]
  },
  {
   "cell_type": "markdown",
   "id": "3e3fd38bd44d9b2e",
   "metadata": {},
   "source": [
    "## 문제 10\n",
    "### 5년이 지났습니다\n",
    "### 우리 도마뱀들이 너무 커서 사육장을 분리해야해요!\n",
    "### 딕셔너리로 나누었던 것을 사육장1, 2, 3 `리스트`로 변경하고\n",
    "### 각 도마뱀들을 넣어주세요!"
   ]
  },
  {
   "cell_type": "code",
   "execution_count": null,
   "id": "95ad0c7878164214",
   "metadata": {},
   "outputs": [],
   "source": [
    "# 정답 입력"
   ]
  },
  {
   "cell_type": "markdown",
   "id": "e9add10bf3ea4774",
   "metadata": {},
   "source": []
  }
 ],
 "metadata": {
  "kernelspec": {
   "display_name": "Python 3",
   "language": "python",
   "name": "python3"
  },
  "language_info": {
   "codemirror_mode": {
    "name": "ipython",
    "version": 2
   },
   "file_extension": ".py",
   "mimetype": "text/x-python",
   "name": "python",
   "nbconvert_exporter": "python",
   "pygments_lexer": "ipython2",
   "version": "2.7.6"
  }
 },
 "nbformat": 4,
 "nbformat_minor": 5
}
