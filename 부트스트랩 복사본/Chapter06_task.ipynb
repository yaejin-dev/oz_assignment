{
 "cells": [
  {
   "cell_type": "markdown",
   "metadata": {},
   "source": [
    "[문제 6: 매출 확인] 붕어빵 판매 가격을 설정하고, 판매한 붕어빵의 매출을 계산하세요. 요구사항:\n",
    "\n",
    "각 붕어빵의 가격을 딕셔너리로 관리합니다.\n",
    "판매된 붕어빵의 종류와 개수를 딕셔너리로 관 리합니다.\n",
    "총 매출을 계산하여 출력합니다. 초기 설정:\n",
    "가격 -\"팥붕어빵\": 1000 -\"슈크림붕어빵\" : 1200 -\"초코붕어빵\" : 1500\n",
    "\n",
    "판매 개수\n",
    "\"팥붕어빵\": 0 -\"슈크림붕어빵\": 0 -\"초코붕어빵\": 0"
   ]
  },
  {
   "cell_type": "code",
   "execution_count": null,
   "metadata": {
    "vscode": {
     "languageId": "plaintext"
    }
   },
   "outputs": [],
   "source": [
    "stock = {\n",
    "    \"팥붕어빵\" : 10,\n",
    "    \"슈크림붕어빵\" : 8,\n",
    "    \"초코붕어빵\" : 5\n",
    "}\n",
    "price = {\n",
    "    \"팥붕어빵\" : 1000,\n",
    "    \"슈크림붕어빵\" : 1200,\n",
    "    \"초코붕어빵\" : 1500\n",
    "}\n",
    "\n",
    "sales = {\n",
    "    \"팥붕어빵\" : 0,\n",
    "    \"슈크림붕어빵\" : 0,\n",
    "    \"초코붕어빵\" : 0\n",
    "}\n",
    "\n",
    "while True:\n",
    "    mode = input (\"원하는 모드를 선택해주세요 (주문, 관리자, 종료) : \")\n",
    "    if mode == \"종료\" :\n",
    "        break\n",
    "    if mode == \"주문\":\n",
    "        while True:\n",
    "            bread_type = input (\"붕어빵 종류를 입력해주세요 (팥붕어빵, 슈크림붕어빵, 초코붕어빵 중 하나를 선택해주세요) 뒤로 돌아가길 원하시면 돌아가기를 입력해주세요 : \")    \n",
    "            if bread_type == \"돌아가기\": # bread_type에는 초코붕어빵\n",
    "                break\n",
    "                \n",
    "            bread_count = int(input (\"주문할 붕어빵 개수: \")) #str 3\", 3' int() 함수 = 특정 기능이 작동되도록 모아놓은 코드다=> 자료형을 숫자로 형태의 자료로 만드는 기능의 함수\n",
    "            if stock[bread_type] >= bread_count:\n",
    "                stock[bread_type] -= bread_count #stock[\"초코붕어빵\"] = 5-3\n",
    "                sales[bread_type] += bread_count\n",
    "                print(f\"{bread_type} {bread_count}개를 판매했습니다.\")\n",
    "            else:\n",
    "                print (\"재고 소진으로 주문 불가\" )\n",
    "    if mode == \"관리자\" :\n",
    "        while True:\n",
    "            bread_type = input (\"추가할 붕어빵 종류를 입력해주세요 (팥붕어빵, 슈크림 붕어빵, 초코붕어빵 중 하나를 선택해주세요) 뒤로 돌아가길 원하시면 돌아가기를 입력해주세요 :\")\n",
    "            if bread_type == \"돌아가기\": # bread_type에는 초코붕어빵\n",
    "                break\n",
    "            bread_count = int(input (\"추가할 붕어빵 개수: \"))\n",
    "            stock[bread_type] += bread_count #stock[\"초코붕어빵\"] 5 + bread-count 10=> 15=> stock[\"초코 붕어빵\"] = 15 덮어씌우기\n",
    "            print(f\" {bread_type} 재고가 {bread_count}개 추가되었습니다. \")\n",
    "            \n",
    "  \n",
    "def bp_total_sales(sales, price):\n",
    "    total_sales = sum(sales[bread_type] * price[bread_type] for bread_type in sales)\n",
    "    print(f\"총 매출: {total_sales}원\")\n",
    "    print(\"모든 거래 내역:\")\n",
    "    \n",
    "    for bread_type, bread_count in sales.items():\n",
    "        total_revenue = price[bread_type] * bread_count  # 총 매출은 가격 * 판매 갯수\n",
    "        print(f\"{bread_type} 판매: {bread_count}개, 매출: {total_revenue}원\")\n",
    "        \n",
    "bp_total_sales(sales, price)"
   ]
  }
 ],
 "metadata": {
  "language_info": {
   "name": "python"
  }
 },
 "nbformat": 4,
 "nbformat_minor": 2
}
